{
 "cells": [
  {
   "cell_type": "code",
   "execution_count": 12,
   "metadata": {},
   "outputs": [
    {
     "data": {
      "text/plain": [
       "<qiskit.circuit.instructionset.InstructionSet at 0x7fd4d04e1550>"
      ]
     },
     "execution_count": 12,
     "metadata": {},
     "output_type": "execute_result"
    }
   ],
   "source": [
    "from qiskit import *\n",
    "from qiskit import QuantumCircuit\n",
    "\n",
    "#Can I write code without looking at the example code ?\n",
    "#we build our circuit with 3 entry and 3 states \n",
    "Qcircuit = QuantumCircuit(3,3)\n",
    "#we create an Hadamard gate on state 0\n",
    "Qcircuit.h(0)\n",
    "# what the c is for ?\n",
    "\n",
    "#we can draw the circuit in several way\n",
    "# in text \n",
    "Qcircuit.draw(\"text\")\n",
    "#matplotlib\n",
    "Qcircuit.draw(\"mpl\")\n",
    "\n",
    "#Un état de bell est un circuit avec une porte Hadamard et CX C-NOT\n",
    "#circuit (2,2)\n",
    "Bcircuit = QuantumCircuit(2,2)\n",
    "Bcircuit.h(0)\n",
    "Bcircuit.cx(0,1)\n",
    "\n",
    "#on recréé le circuit QuantumCircuit pour faire les mesures ? \n",
    "# est-ce que le circuit Bcircuit que l'on a écrit avant influence ce circuit aussi\n",
    "measure = QuantumCircuit(2,2)\n",
    "measure.measure([0,1],[0,1])\n",
    "\n",
    "\n"
   ]
  },
  {
   "cell_type": "code",
   "execution_count": null,
   "metadata": {},
   "outputs": [],
   "source": []
  }
 ],
 "metadata": {
  "interpreter": {
   "hash": "eb54eac757974b26090780dfe7125d2f457914cdb0bd23cc1b6a9a6a3771e7d0"
  },
  "kernelspec": {
   "display_name": "Python 3.7.13 ('qiskitenv')",
   "language": "python",
   "name": "python3"
  },
  "language_info": {
   "codemirror_mode": {
    "name": "ipython",
    "version": 3
   },
   "file_extension": ".py",
   "mimetype": "text/x-python",
   "name": "python",
   "nbconvert_exporter": "python",
   "pygments_lexer": "ipython3",
   "version": "3.7.13"
  },
  "orig_nbformat": 4
 },
 "nbformat": 4,
 "nbformat_minor": 2
}
