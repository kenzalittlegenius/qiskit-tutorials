{
 "cells": [
  {
   "cell_type": "code",
   "execution_count": 5,
   "metadata": {},
   "outputs": [
    {
     "data": {
      "text/html": [
       "<pre style=\"word-wrap: normal;white-space: pre;background: #fff0;line-height: 1.1;font-family: &quot;Courier New&quot;,Courier,monospace\">     ┌──────────┐            \n",
       "q_0: ┤0         ├────────────\n",
       "     │  my_gate │┌──────────┐\n",
       "q_1: ┤1         ├┤0         ├\n",
       "     └──────────┘│  my_gate │\n",
       "q_2: ────────────┤1         ├\n",
       "                 └──────────┘</pre>"
      ],
      "text/plain": [
       "     ┌──────────┐            \n",
       "q_0: ┤0         ├────────────\n",
       "     │  my_gate │┌──────────┐\n",
       "q_1: ┤1         ├┤0         ├\n",
       "     └──────────┘│  my_gate │\n",
       "q_2: ────────────┤1         ├\n",
       "                 └──────────┘"
      ]
     },
     "execution_count": 5,
     "metadata": {},
     "output_type": "execute_result"
    }
   ],
   "source": [
    "\"Advanced circuits\"\n",
    "\n",
    "import numpy as np\n",
    "from qiskit import *\n",
    "\n",
    "from qiskit.circuit import Gate\n",
    "\n",
    "\"OPAQUE GATES\"\n",
    "#CRÉATION D'UNE NOUVELLE PORTE\n",
    "my_gate = Gate(name='my_gate', num_qubits=2, params=[])\n",
    "\n",
    "#un registre quantique permet de créer 3 qbit d'input, à quoi sert le 'q' ? \n",
    "qr = QuantumRegister(3, 'q')\n",
    "#création d'un circuit quantique\n",
    "circ = QuantumCircuit(qr)\n",
    "#ajout de deux portes\n",
    "circ.append(my_gate, [qr[0], qr[1]])\n",
    "circ.append(my_gate, [qr[1], qr[2]])\n",
    "\n",
    "circ.draw()"
   ]
  },
  {
   "cell_type": "code",
   "execution_count": 18,
   "metadata": {},
   "outputs": [
    {
     "data": {
      "text/html": [
       "<pre style=\"word-wrap: normal;white-space: pre;background: #fff0;line-height: 1.1;font-family: &quot;Courier New&quot;,Courier,monospace\">     ┌───┐                       \n",
       "q_0: ┤ H ├──■────────────────────\n",
       "     └───┘┌─┴─┐     ┌───────────┐\n",
       "q_1: ─────┤ X ├──■──┤0          ├\n",
       "          └───┘┌─┴─┐│  sub_circ │\n",
       "q_2: ──────────┤ X ├┤1          ├\n",
       "               └───┘└───────────┘</pre>"
      ],
      "text/plain": [
       "     ┌───┐                       \n",
       "q_0: ┤ H ├──■────────────────────\n",
       "     └───┘┌─┴─┐     ┌───────────┐\n",
       "q_1: ─────┤ X ├──■──┤0          ├\n",
       "          └───┘┌─┴─┐│  sub_circ │\n",
       "q_2: ──────────┤ X ├┤1          ├\n",
       "               └───┘└───────────┘"
      ]
     },
     "execution_count": 18,
     "metadata": {},
     "output_type": "execute_result"
    }
   ],
   "source": [
    "\"Composite Gates\"\n",
    "#qu'est ce que ça pourrait être ? \n",
    "\n",
    "# Build a sub-circuit\n",
    "#on créé un registre avec 2 entrées\n",
    "sub_q = QuantumRegister(2)\n",
    "#on créé le circuit quantique de base\n",
    "sub_circ = QuantumCircuit(sub_q, name='sub_circ')\n",
    "#on ajoute une porte h sur l'entrée 0\n",
    "sub_circ.h(sub_q[0])\n",
    "\n",
    "\n",
    "#on ajoute une porte crz sur |0> puis |1>, qu'est ce que c'est ?\n",
    "\"\"\" theta: The angle of the rotation.\n",
    "    control_qubit: The qubit(s) used as the control.\n",
    "    target_qubit: The qubit(s) targeted by the gate.\n",
    "    label: The string label of the gate in the circuit.\n",
    "    ctrl_state: The control state in decimal, or as a bitstring (e.g. '1').  Defaults to controlling on the '1' state.\"\"\"\n",
    "\n",
    "#L'angle de rotation est 1 , le bit de contrôle est sub_q[0] , le bit cible est sub_q[1]\n",
    "sub_circ.crz(1, sub_q[0], sub_q[1])\n",
    "\n",
    "#on ajoute une barrière #elle peut être vue dans la version décomposée \n",
    "#sub_circ.barrier()\n",
    "#on ajoute un id ?\n",
    "\n",
    "#on ajoute une porte identité\n",
    "sub_circ.id(sub_q[1])\n",
    "\n",
    "#on ajoute une porte u \n",
    "sub_circ.u(1, 2, -2, sub_q[0])\n",
    "\n",
    "\n",
    "\n",
    "# Convert to a gate and stick it into an arbitrary place in the bigger circuit\n",
    "sub_inst = sub_circ.to_instruction()\n",
    "\n",
    "qr = QuantumRegister(3, 'q')\n",
    "circ = QuantumCircuit(qr)\n",
    "circ.h(qr[0])\n",
    "circ.cx(qr[0], qr[1])\n",
    "circ.cx(qr[1], qr[2])\n",
    "circ.append(sub_inst, [qr[1], qr[2]])\n",
    "\n",
    "circ.draw()"
   ]
  },
  {
   "cell_type": "code",
   "execution_count": 19,
   "metadata": {},
   "outputs": [
    {
     "data": {
      "text/html": [
       "<pre style=\"word-wrap: normal;white-space: pre;background: #fff0;line-height: 1.1;font-family: &quot;Courier New&quot;,Courier,monospace\">     ┌─────────┐                                     \n",
       "q_0: ┤ U2(0,π) ├──■──────────────────────────────────\n",
       "     └─────────┘┌─┴─┐     ┌───┐         ┌───────────┐\n",
       "q_1: ───────────┤ X ├──■──┤ H ├────■────┤ U(1,2,-2) ├\n",
       "                └───┘┌─┴─┐└───┘┌───┴───┐└───┬───┬───┘\n",
       "q_2: ────────────────┤ X ├─────┤ Rz(1) ├────┤ I ├────\n",
       "                     └───┘     └───────┘    └───┘    </pre>"
      ],
      "text/plain": [
       "     ┌─────────┐                                     \n",
       "q_0: ┤ U2(0,π) ├──■──────────────────────────────────\n",
       "     └─────────┘┌─┴─┐     ┌───┐         ┌───────────┐\n",
       "q_1: ───────────┤ X ├──■──┤ H ├────■────┤ U(1,2,-2) ├\n",
       "                └───┘┌─┴─┐└───┘┌───┴───┐└───┬───┬───┘\n",
       "q_2: ────────────────┤ X ├─────┤ Rz(1) ├────┤ I ├────\n",
       "                     └───┘     └───────┘    └───┘    "
      ]
     },
     "execution_count": 19,
     "metadata": {},
     "output_type": "execute_result"
    }
   ],
   "source": [
    "decomposed_circ = circ.decompose() # Does not modify original circuit\n",
    "decomposed_circ.draw()"
   ]
  },
  {
   "cell_type": "code",
   "execution_count": null,
   "metadata": {},
   "outputs": [],
   "source": [
    "\"\"\"Parametrized circuits\"\"\"\n",
    "\n",
    "from qiskit.circuit import Parameter\n",
    "\n",
    "#on ajoute un paramêtre qui est theta\n",
    "theta = Parameter('θ')\n",
    "\n",
    "n = 5\n",
    "\n",
    "#circuit quantique \n",
    "qc = QuantumCircuit(5, 1)\n",
    "\n",
    "#application d'une porte hadamard\n",
    "qc.h(0)\n",
    "for i in range(n-1):\n",
    "    qc.cx(i, i+1)\n",
    "\n",
    "#une barriere\n",
    "qc.barrier()\n",
    "\n",
    "#rotation selon l'axe z\n",
    "qc.rz(theta, range(5))\n",
    "\n",
    "#barrière\n",
    "qc.barrier()\n",
    "\n",
    "for i in reversed(range(n-1)):\n",
    "    qc.cx(i, i+1)\n",
    "qc.h(0)\n",
    "qc.measure(0, 0)\n",
    "\n",
    "qc.draw('mpl')\n"
   ]
  }
 ],
 "metadata": {
  "interpreter": {
   "hash": "eb54eac757974b26090780dfe7125d2f457914cdb0bd23cc1b6a9a6a3771e7d0"
  },
  "kernelspec": {
   "display_name": "Python 3.7.13 ('qiskitenv')",
   "language": "python",
   "name": "python3"
  },
  "language_info": {
   "name": "python",
   "version": "3.7.13"
  },
  "orig_nbformat": 4
 },
 "nbformat": 4,
 "nbformat_minor": 2
}
