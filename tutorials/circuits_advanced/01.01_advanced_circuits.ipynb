{
 "cells": [
  {
   "cell_type": "code",
   "execution_count": 5,
   "metadata": {},
   "outputs": [
    {
     "data": {
      "text/html": [
       "<pre style=\"word-wrap: normal;white-space: pre;background: #fff0;line-height: 1.1;font-family: &quot;Courier New&quot;,Courier,monospace\">     ┌──────────┐            \n",
       "q_0: ┤0         ├────────────\n",
       "     │  my_gate │┌──────────┐\n",
       "q_1: ┤1         ├┤0         ├\n",
       "     └──────────┘│  my_gate │\n",
       "q_2: ────────────┤1         ├\n",
       "                 └──────────┘</pre>"
      ],
      "text/plain": [
       "     ┌──────────┐            \n",
       "q_0: ┤0         ├────────────\n",
       "     │  my_gate │┌──────────┐\n",
       "q_1: ┤1         ├┤0         ├\n",
       "     └──────────┘│  my_gate │\n",
       "q_2: ────────────┤1         ├\n",
       "                 └──────────┘"
      ]
     },
     "execution_count": 5,
     "metadata": {},
     "output_type": "execute_result"
    }
   ],
   "source": [
    "\"Advanced circuits\"\n",
    "\n",
    "import numpy as np\n",
    "from qiskit import *\n",
    "\n",
    "from qiskit.circuit import Gate\n",
    "\n",
    "\"OPAQUE GATES\"\n",
    "#CRÉATION D'UNE NOUVELLE PORTE\n",
    "my_gate = Gate(name='my_gate', num_qubits=2, params=[])\n",
    "\n",
    "#un registre quantique permet de créer 3 qbit d'input, à quoi sert le 'q' ? \n",
    "qr = QuantumRegister(3, 'q')\n",
    "#création d'un circuit quantique\n",
    "circ = QuantumCircuit(qr)\n",
    "#ajout de deux portes\n",
    "circ.append(my_gate, [qr[0], qr[1]])\n",
    "circ.append(my_gate, [qr[1], qr[2]])\n",
    "\n",
    "circ.draw()"
   ]
  },
  {
   "cell_type": "code",
   "execution_count": null,
   "metadata": {},
   "outputs": [],
   "source": [
    "\"Composite Gates\"\n",
    "#qu'est ce que ça pourrait être ? \n",
    "\n",
    "# Build a sub-circuit\n",
    "#on créé un registre avec 2 entrées\n",
    "sub_q = QuantumRegister(2)\n",
    "#on créé le circuit quantique de base\n",
    "sub_circ = QuantumCircuit(sub_q, name='sub_circ')\n",
    "#on ajoute une porte h sur l'entrée 0\n",
    "sub_circ.h(sub_q[0])\n",
    "#on ajoute une porte crz sur |0> puis |1>, qu'est ce que c'est ?\n",
    "sub_circ.crz(1, sub_q[0], sub_q[1])\n",
    "#on ajoute une barrière ?\n",
    "sub_circ.barrier()\n",
    "#on ajoute un id ?\n",
    "sub_circ.id(sub_q[1])\n",
    "#on ajoute une porte u \n",
    "sub_circ.u(1, 2, -2, sub_q[0])\n",
    "\n",
    "# Convert to a gate and stick it into an arbitrary place in the bigger circuit\n",
    "sub_inst = sub_circ.to_instruction()\n",
    "\n",
    "qr = QuantumRegister(3, 'q')\n",
    "circ = QuantumCircuit(qr)\n",
    "circ.h(qr[0])\n",
    "circ.cx(qr[0], qr[1])\n",
    "circ.cx(qr[1], qr[2])\n",
    "circ.append(sub_inst, [qr[1], qr[2]])\n",
    "\n",
    "circ.draw()\n"
   ]
  }
 ],
 "metadata": {
  "interpreter": {
   "hash": "eb54eac757974b26090780dfe7125d2f457914cdb0bd23cc1b6a9a6a3771e7d0"
  },
  "kernelspec": {
   "display_name": "Python 3.7.13 ('qiskitenv')",
   "language": "python",
   "name": "python3"
  },
  "language_info": {
   "name": "python",
   "version": "3.7.13"
  },
  "orig_nbformat": 4
 },
 "nbformat": 4,
 "nbformat_minor": 2
}
