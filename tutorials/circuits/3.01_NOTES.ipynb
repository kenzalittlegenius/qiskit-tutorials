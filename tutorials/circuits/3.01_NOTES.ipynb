{
 "cells": [
  {
   "cell_type": "code",
   "execution_count": 16,
   "metadata": {},
   "outputs": [
    {
     "data": {
      "image/png": "[encoded data removed]",
      "text/plain": [
       "<Figure size 220.123x84.28 with 1 Axes>"
      ]
     },
     "execution_count": 16,
     "metadata": {},
     "output_type": "execute_result"
    }
   ],
   "source": [
    "# Useful additional packages \n",
    "import matplotlib.pyplot as plt\n",
    "import numpy as np\n",
    "from math import pi\n",
    "\n",
    "from qiskit import QuantumCircuit, ClassicalRegister, QuantumRegister, transpile\n",
    "from qiskit.tools.visualization import circuit_drawer\n",
    "from qiskit.quantum_info import state_fidelity\n",
    "from qiskit import BasicAer\n",
    "\n",
    "# qu'est ce qu'un backend ? = simulateur operation unitaire - séquence d'operateurs unitaires -> retourne un vecteur d'état\n",
    "backend = BasicAer.get_backend('unitary_simulator')\n",
    "\n",
    "\"creation d'un registre quantique : qu'est ce qu'un registre quantique ?\"\n",
    "q = QuantumRegister(1)\n",
    "\n",
    "#circuit quantique\n",
    "qc = QuantumCircuit(q)\n",
    "\n",
    "\"theta: ParameterValueType,ANGLE DE ROTATION\"\n",
    "\"phi: ParameterValueType, ANGLE DE ROTATION,\"\n",
    "\"lam: ParameterValueType, ANGLE DE ROTATION\"\n",
    "\"qubit: QubitSpecifier, QUBIT\"\n",
    "\n",
    "\n",
    "#porte u sur le circuit quantique ?\n",
    "qc.u(pi/2,pi/4,pi/8,q)\n",
    "#dessin trop cute uwu\n",
    "qc.draw(\"mpl\")"
   ]
  },
  {
   "cell_type": "code",
   "execution_count": 17,
   "metadata": {},
   "outputs": [
    {
     "data": {
      "text/plain": [
       "array([[ 0.707+0.j   , -0.653-0.271j],\n",
       "       [ 0.5  +0.5j  ,  0.271+0.653j]])"
      ]
     },
     "execution_count": 17,
     "metadata": {},
     "output_type": "execute_result"
    }
   ],
   "source": [
    "job = backend.run(transpile(qc, backend))\n",
    "job.result().get_unitary(qc, decimals=3)"
   ]
  }
 ],
 "metadata": {
  "interpreter": {
   "hash": "eb54eac757974b26090780dfe7125d2f457914cdb0bd23cc1b6a9a6a3771e7d0"
  },
  "kernelspec": {
   "display_name": "Python 3.7.13 ('qiskitenv')",
   "language": "python",
   "name": "python3"
  },
  "language_info": {
   "codemirror_mode": {
    "name": "ipython",
    "version": 3
   },
   "file_extension": ".py",
   "mimetype": "text/x-python",
   "name": "python",
   "nbconvert_exporter": "python",
   "pygments_lexer": "ipython3",
   "version": "3.7.13"
  },
  "orig_nbformat": 4
 },
 "nbformat": 4,
 "nbformat_minor": 2
}
