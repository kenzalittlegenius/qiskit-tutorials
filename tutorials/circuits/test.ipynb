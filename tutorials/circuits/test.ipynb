{
 "cells": [
  {
   "cell_type": "code",
   "execution_count": 7,
   "metadata": {},
   "outputs": [
    {
     "data": {
      "image/png": "[encoded data removed]",
      "text/plain": [
       "<Figure size 146.797x264.88 with 1 Axes>"
      ]
     },
     "execution_count": 7,
     "metadata": {},
     "output_type": "execute_result"
    }
   ],
   "source": [
    "from qiskit import *\n",
    "from qiskit import QuantumCircuit\n",
    "\n",
    "#Can I write code without looking at the example code ?\n",
    "#we build our circuit with 3 entry and 3 states \n",
    "Qcircuit = QuantumCircuit(3,3)\n",
    "#we create an Hadamard gate on state 0\n",
    "Qcircuit.h(0)\n",
    "# what the c is for ?\n",
    "\n",
    "#we can draw the circuit in several way\n",
    "# in text \n",
    "Qcircuit.draw(\"text\")\n",
    "#matplotlib\n",
    "Qcircuit.draw(\"mpl\")\n",
    "\n"
   ]
  }
 ],
 "metadata": {
  "interpreter": {
   "hash": "eb54eac757974b26090780dfe7125d2f457914cdb0bd23cc1b6a9a6a3771e7d0"
  },
  "kernelspec": {
   "display_name": "Python 3.7.13 ('qiskitenv')",
   "language": "python",
   "name": "python3"
  },
  "language_info": {
   "codemirror_mode": {
    "name": "ipython",
    "version": 3
   },
   "file_extension": ".py",
   "mimetype": "text/x-python",
   "name": "python",
   "nbconvert_exporter": "python",
   "pygments_lexer": "ipython3",
   "version": "3.7.13"
  },
  "orig_nbformat": 4
 },
 "nbformat": 4,
 "nbformat_minor": 2
}
